{
 "cells": [
  {
   "cell_type": "markdown",
   "metadata": {},
   "source": [
    "# Assignment 2 Day 4"
   ]
  },
  {
   "cell_type": "code",
   "execution_count": 13,
   "metadata": {},
   "outputs": [
    {
     "name": "stdout",
     "output_type": "stream",
     "text": [
      "The result of addition is:  (8+14j)\n",
      "The result of subtraction is:  (-2-2j)\n",
      "The result of multiplication is:  (-33+54j)\n",
      "The result of division is:  (0.7078651685393258+0.06741573033707865j)\n"
     ]
    }
   ],
   "source": [
    "#Research on whether addition, subtraction, multiplication, division, floor division, and modulo operations be performed on complex numbers.\n",
    "# As per my research the operations that can be performed on the complex numbers are : addition, subtraction, multiplication and division can be performed\n",
    "# The oprations such as Floored division and modulo opration cannot be implemneted on complex numbers\n",
    "\n",
    "#Program to implement addition, subtractio, multiplication and division\n",
    "z1 = complex(3,6)\n",
    "z2 = complex(5,8)\n",
    "\n",
    "add = z1 + z2\n",
    "subtract = z1 - z2\n",
    "mul = z1 * z2\n",
    "div = z1/z2\n",
    "\n",
    "print(\"The result of addition is: \",add)\n",
    "print(\"The result of subtraction is: \",subtract)\n",
    "print(\"The result of multiplication is: \",mul)\n",
    "print(\"The result of division is: \",div)"
   ]
  },
  {
   "cell_type": "markdown",
   "metadata": {},
   "source": [
    "# Research on range() functions and its parameters\n",
    "## The range() is a built-in python library. The range() returns a list or sequence of numbers and these numbers are immutable.\n",
    "## The range() was introduced in Python 3, before that there was a similar function in Python 2 named as \"xrange()\".\n",
    "## The range() can take at least one value and atmost three values. They all are:\n",
    "## 1. range(stop_value)\n",
    "## 2. range(start_value, stop_value)\n",
    "## 3. range(start_value, stop_value, step_size)"
   ]
  },
  {
   "cell_type": "code",
   "execution_count": 10,
   "metadata": {},
   "outputs": [
    {
     "name": "stdout",
     "output_type": "stream",
     "text": [
      "Range function with only stop value as arguement\n",
      "0\n",
      "1\n",
      "2\n",
      "3\n",
      "4\n",
      "5\n",
      "6\n",
      "7\n",
      "8\n",
      "9\n",
      "-------------------------------------------------------------------------------------------------------\n",
      "Range function with start value and stop value as arguement\n",
      "2\n",
      "3\n",
      "4\n",
      "5\n",
      "6\n",
      "7\n",
      "8\n",
      "9\n",
      "-------------------------------------------------------------------------------------------------------\n",
      "Range function with start value, stop value and step size as arguement\n",
      "2\n",
      "4\n",
      "6\n",
      "8\n"
     ]
    }
   ],
   "source": [
    "#Program to implement the findings on range()\n",
    "# for the first type of range(), i.e, range(stop_value)\n",
    "print(\"Range function with only stop value as arguement\")\n",
    "for n in range(10):\n",
    "    print(n)\n",
    "print(\"-------------------------------------------------------------------------------------------------------\")\n",
    "#for the second type of range function, i.e., range(start_value, stop_value)\n",
    "print(\"Range function with start value and stop value as arguement\")\n",
    "for n in range(2,10):\n",
    "    print(n)\n",
    "print(\"-------------------------------------------------------------------------------------------------------\")\n",
    "#for the third type of range function, i.e., range(start_value, stop_value, step_size)\n",
    "print(\"Range function with start value, stop value and step size as arguement\")\n",
    "for n in range(2,10,2):\n",
    "    print(n)"
   ]
  },
  {
   "cell_type": "code",
   "execution_count": 12,
   "metadata": {},
   "outputs": [
    {
     "name": "stdout",
     "output_type": "stream",
     "text": [
      "Enter the first number: 10\n",
      "Enter the second number: 5\n",
      "The result of the division of the two numbers is:  2.0\n"
     ]
    }
   ],
   "source": [
    "#Consider two numbers. Perform their subtraction and if the result of subtraction is greater than 25, print\n",
    "#their multiplication result else print their division result.\n",
    "\n",
    "n1 = int(input(\"Enter the first number: \"))\n",
    "n2 = int(input(\"Enter the second number: \"))\n",
    "\n",
    "sub = n1 - n2\n",
    "\n",
    "if sub > 25:\n",
    "    print(\"The result of the multiplication of the two numbers is: \",(n1*n2))\n",
    "else:\n",
    "    print(\"The result of the division of the two numbers is: \",(n1/n2))"
   ]
  },
  {
   "cell_type": "code",
   "execution_count": 17,
   "metadata": {},
   "outputs": [
    {
     "name": "stdout",
     "output_type": "stream",
     "text": [
      "2\n",
      "14\n",
      "34\n",
      "62\n",
      "98\n"
     ]
    }
   ],
   "source": [
    "#Consider a list of 10 elements of integer values. If the number in the list is divisible by 2, print the result as\n",
    "#\"square of that number minus 2\".\n",
    "\n",
    "l = [1,2,3,4,5,6,7,8,9,10]\n",
    "\n",
    "for n in l:\n",
    "    if n % 2 == 0:\n",
    "        print(((n*n)-2))"
   ]
  },
  {
   "cell_type": "code",
   "execution_count": 23,
   "metadata": {},
   "outputs": [
    {
     "name": "stdout",
     "output_type": "stream",
     "text": [
      "97\n",
      "21\n",
      "36\n",
      "48\n",
      "55\n"
     ]
    }
   ],
   "source": [
    "#Consider a list of 10 elements. Print all the elements in the list which are greater than 7 when that number\n",
    "#is divided 2\n",
    "\n",
    "l = [97,12,14,21,36,48,1,55,2,13]\n",
    "\n",
    "for n in l:\n",
    "    if n / 2 > 7:\n",
    "        print(n)"
   ]
  },
  {
   "cell_type": "code",
   "execution_count": null,
   "metadata": {},
   "outputs": [],
   "source": []
  }
 ],
 "metadata": {
  "kernelspec": {
   "display_name": "Python 3",
   "language": "python",
   "name": "python3"
  },
  "language_info": {
   "codemirror_mode": {
    "name": "ipython",
    "version": 3
   },
   "file_extension": ".py",
   "mimetype": "text/x-python",
   "name": "python",
   "nbconvert_exporter": "python",
   "pygments_lexer": "ipython3",
   "version": "3.7.6"
  }
 },
 "nbformat": 4,
 "nbformat_minor": 4
}

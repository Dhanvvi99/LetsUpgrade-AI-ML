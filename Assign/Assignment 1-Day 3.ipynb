{
 "cells": [
  {
   "cell_type": "markdown",
   "metadata": {},
   "source": [
    "# ASSIGNMENT 1/ DAY 3"
   ]
  },
  {
   "cell_type": "code",
   "execution_count": 1,
   "metadata": {},
   "outputs": [
    {
     "name": "stdout",
     "output_type": "stream",
     "text": [
      "Enter the 1st Number:45\n",
      "Enter the 2nd Number:45\n",
      "(90+0j)\n"
     ]
    }
   ],
   "source": [
    "#Program to add two complex numbers in Python\n",
    "num1 = complex(input(\"Enter the 1st Number:\"))\n",
    "num2 = complex(input(\"Enter the 2nd Number:\"))\n",
    "\n",
    "sum = num1 + num2\n",
    "print(sum)"
   ]
  },
  {
   "cell_type": "code",
   "execution_count": 11,
   "metadata": {},
   "outputs": [
    {
     "name": "stdout",
     "output_type": "stream",
     "text": [
      "Enter the number :16\n",
      "The Fourth root of  16  is 2.0\n"
     ]
    }
   ],
   "source": [
    "#Program to find the fourth root of a number\n",
    "\n",
    "a = int(input(\"Enter the number :\"))\n",
    "\n",
    "root = a**(1/4)\n",
    "print(\"The Fourth root of \",a,\" is\",root)"
   ]
  },
  {
   "cell_type": "code",
   "execution_count": 9,
   "metadata": {},
   "outputs": [
    {
     "name": "stdout",
     "output_type": "stream",
     "text": [
      "First Number = 7\n",
      "Second Number = 6\n",
      "------------------------The Swapped values are----------------------\n",
      "First number =  6\n",
      "The second number =  7\n"
     ]
    }
   ],
   "source": [
    "# program to swap two numbers in Python with the help of a temporary variable\n",
    "\n",
    "a = int(input(\"First Number = \"))\n",
    "b = int(input(\"Second Number = \"))\n",
    "\n",
    "temp = a \n",
    "a = b\n",
    "b = temp\n",
    "\n",
    "print(\"------------------------The Swapped values are----------------------\")\n",
    "print(\"First number = \",a)\n",
    "print(\"The second number = \",b)"
   ]
  },
  {
   "cell_type": "code",
   "execution_count": 10,
   "metadata": {},
   "outputs": [
    {
     "name": "stdout",
     "output_type": "stream",
     "text": [
      "First Number = 5\n",
      "Second Number = 6\n",
      "----------------------Before Swapping----------------------\n",
      "First Number =  5\n",
      "Second Number =  6\n",
      "----------------------After Swapping-----------------------\n",
      "First Number =  6\n",
      "Second Number =  5\n"
     ]
    }
   ],
   "source": [
    "#program to swap two numbers in Python without using a temporary variable.\n",
    "\n",
    "a = int(input(\"First Number = \"))\n",
    "b = int(input(\"Second Number = \"))\n",
    "\n",
    "print(\"----------------------Before Swapping----------------------\")\n",
    "print(\"First Number = \",a)\n",
    "print(\"Second Number = \",b)\n",
    "print(\"----------------------After Swapping-----------------------\")\n",
    "a,b = b,a\n",
    "print(\"First Number = \",a)\n",
    "print(\"Second Number = \",b)\n",
    "\n"
   ]
  },
  {
   "cell_type": "code",
   "execution_count": 9,
   "metadata": {},
   "outputs": [
    {
     "name": "stdout",
     "output_type": "stream",
     "text": [
      "Enter the temperature in Farenheit : 32\n",
      "The Temperature in Kelvin is:  273.15\n",
      "The Temperature in Celsius is:  0.0\n"
     ]
    }
   ],
   "source": [
    "#program to convert Fahrenheit to kelvin and celsius both\n",
    "\n",
    "F = float(input(\"Enter the temperature in Farenheit : \"))\n",
    "#Formula to convert Farenheit to Kelvin\n",
    "k = ((5*(F-32))/9)+273.15\n",
    "#Formula to convert Farenheit to Celsius \n",
    "c = ((5*(F-32))/9)\n",
    "\n",
    "print(\"The Temperature in Kelvin is: \",k)\n",
    "print(\"The Temperature in Celsius is: \",c)"
   ]
  },
  {
   "cell_type": "code",
   "execution_count": 16,
   "metadata": {},
   "outputs": [
    {
     "name": "stdout",
     "output_type": "stream",
     "text": [
      "<class 'int'>\n",
      "<class 'float'>\n",
      "<class 'str'>\n",
      "<class 'complex'>\n"
     ]
    }
   ],
   "source": [
    "#program to demonstrate all the available data types in Python.\n",
    "a = 5\n",
    "print(type(a))\n",
    "\n",
    "b = 5.0\n",
    "print(type(b))\n",
    "\n",
    "c = '5'\n",
    "print(type(c))\n",
    "\n",
    "d = 5+6j\n",
    "print(type(d))"
   ]
  },
  {
   "cell_type": "markdown",
   "metadata": {},
   "source": [
    "# Stpes to create a Github profile and upload the Githubs Assignment link\n",
    "\n",
    "## 1. Create a Github public repo and name it LetsUpgrade AI/ML \n",
    "## 2. Upload the files/solution in the repo in a day-wise manner.  \n",
    "## 3. Copy the URL of the Folder of that day and paste in the Assignment Submission Form (Google Form)"
   ]
  },
  {
   "cell_type": "code",
   "execution_count": null,
   "metadata": {},
   "outputs": [],
   "source": []
  }
 ],
 "metadata": {
  "kernelspec": {
   "display_name": "Python 3",
   "language": "python",
   "name": "python3"
  },
  "language_info": {
   "codemirror_mode": {
    "name": "ipython",
    "version": 3
   },
   "file_extension": ".py",
   "mimetype": "text/x-python",
   "name": "python",
   "nbconvert_exporter": "python",
   "pygments_lexer": "ipython3",
   "version": "3.7.6"
  }
 },
 "nbformat": 4,
 "nbformat_minor": 4
}
